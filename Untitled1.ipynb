{
  "nbformat": 4,
  "nbformat_minor": 0,
  "metadata": {
    "colab": {
      "provenance": [],
      "authorship_tag": "ABX9TyPjzYgc4QNzq8pjaN/8rRk1",
      "include_colab_link": true
    },
    "kernelspec": {
      "name": "python3",
      "display_name": "Python 3"
    },
    "language_info": {
      "name": "python"
    }
  },
  "cells": [
    {
      "cell_type": "markdown",
      "metadata": {
        "id": "view-in-github",
        "colab_type": "text"
      },
      "source": [
        "<a href=\"https://colab.research.google.com/github/n-ishfaq/n-ishfaq/blob/main/Untitled1.ipynb\" target=\"_parent\"><img src=\"https://colab.research.google.com/assets/colab-badge.svg\" alt=\"Open In Colab\"/></a>"
      ]
    },
    {
      "cell_type": "code",
      "execution_count": 6,
      "metadata": {
        "id": "6zuwRy4-O9zb"
      },
      "outputs": [],
      "source": [
        "import pandas as pd\n",
        "import numpy as np\n",
        "import requests\n",
        "from bs4 import BeautifulSoup"
      ]
    },
    {
      "cell_type": "code",
      "source": [
        "!pip install bs4 request"
      ],
      "metadata": {
        "colab": {
          "base_uri": "https://localhost:8080/"
        },
        "id": "0wckqNX6PbIe",
        "outputId": "274d2905-44fd-4554-e9b2-289c699a082e"
      },
      "execution_count": 2,
      "outputs": [
        {
          "output_type": "stream",
          "name": "stdout",
          "text": [
            "Collecting bs4\n",
            "  Downloading bs4-0.0.2-py2.py3-none-any.whl.metadata (411 bytes)\n",
            "\u001b[31mERROR: Could not find a version that satisfies the requirement request (from versions: none)\u001b[0m\u001b[31m\n",
            "\u001b[0m\u001b[31mERROR: No matching distribution found for request\u001b[0m\u001b[31m\n",
            "\u001b[0m"
          ]
        }
      ]
    },
    {
      "cell_type": "code",
      "source": [
        "!pip install requests"
      ],
      "metadata": {
        "colab": {
          "base_uri": "https://localhost:8080/"
        },
        "id": "nwh-4L1dPi21",
        "outputId": "309e21ad-a2c2-4f1b-949e-5da5a28a75a4"
      },
      "execution_count": 4,
      "outputs": [
        {
          "output_type": "stream",
          "name": "stdout",
          "text": [
            "Requirement already satisfied: requests in /usr/local/lib/python3.10/dist-packages (2.32.3)\n",
            "Requirement already satisfied: charset-normalizer<4,>=2 in /usr/local/lib/python3.10/dist-packages (from requests) (3.4.0)\n",
            "Requirement already satisfied: idna<4,>=2.5 in /usr/local/lib/python3.10/dist-packages (from requests) (3.10)\n",
            "Requirement already satisfied: urllib3<3,>=1.21.1 in /usr/local/lib/python3.10/dist-packages (from requests) (2.2.3)\n",
            "Requirement already satisfied: certifi>=2017.4.17 in /usr/local/lib/python3.10/dist-packages (from requests) (2024.8.30)\n"
          ]
        }
      ]
    },
    {
      "cell_type": "code",
      "source": [
        "headers={\"User-Agent\":\"Mozilla/5.0 (Windows NT 10.0; Win64; x64) AppleWebKit/537.36 (KHTML, like Gecko) Chrome/131.0.0.0 Safari/537.36 Edg/131.0.0.0\",\n",
        "\"Accept-Language\": \"en-US,en;q=0.9\", }\n",
        "response=requests.get(\"https://www.iqair.com/pakistan/punjab/lahore\",headers=headers)\n",
        "response"
      ],
      "metadata": {
        "colab": {
          "base_uri": "https://localhost:8080/"
        },
        "id": "WoQPwP_GPrq2",
        "outputId": "a09233e6-f1dd-4c23-9b67-fd31bb802204"
      },
      "execution_count": 10,
      "outputs": [
        {
          "output_type": "execute_result",
          "data": {
            "text/plain": [
              "<Response [200]>"
            ]
          },
          "metadata": {},
          "execution_count": 10
        }
      ]
    },
    {
      "cell_type": "code",
      "source": [
        "html=response.content"
      ],
      "metadata": {
        "id": "8jT6cM2VWJOW"
      },
      "execution_count": 14,
      "outputs": []
    },
    {
      "cell_type": "code",
      "source": [
        "bs4=BeautifulSoup(html,\"html.parser\")"
      ],
      "metadata": {
        "id": "BXVpN3FpS2-d"
      },
      "execution_count": 18,
      "outputs": []
    },
    {
      "cell_type": "code",
      "source": [
        "elements_with_classes=bs4.find_all(\"div\",class_=\"aqi-value-wrapper__container-wrapper\")\n",
        "elements_with_classes"
      ],
      "metadata": {
        "colab": {
          "base_uri": "https://localhost:8080/"
        },
        "id": "fqFQ8-THWgOO",
        "outputId": "d7c4343d-7989-48d7-f8f9-3350063786c2"
      },
      "execution_count": 28,
      "outputs": [
        {
          "output_type": "execute_result",
          "data": {
            "text/plain": [
              "[<div _ngcontent-airvisual-web-c182905767=\"\" class=\"aqi-value-wrapper__container-wrapper\"><div _ngcontent-airvisual-web-c182905767=\"\" class=\"aqi-value aqi-box-maroon\"><p _ngcontent-airvisual-web-c182905767=\"\" class=\"aqi-value__estimated\"> 352 <!-- --></p><span _ngcontent-airvisual-web-c182905767=\"\" class=\"aqi-value__unit\"> US AQI⁺ </span></div><p _ngcontent-airvisual-web-c182905767=\"\" class=\"aqi-text__status\"> Hazardous <!-- --></p></div>]"
            ]
          },
          "metadata": {},
          "execution_count": 28
        }
      ]
    },
    {
      "cell_type": "code",
      "source": [
        "textvalue=bs4.find_all(class_=\"aqi-text__value\")\n",
        "textvalue[0].text"
      ],
      "metadata": {
        "colab": {
          "base_uri": "https://localhost:8080/",
          "height": 36
        },
        "id": "PIcmr1x8cRTm",
        "outputId": "54eaa625-aab1-4423-a2a9-1e65543fb760"
      },
      "execution_count": 33,
      "outputs": [
        {
          "output_type": "execute_result",
          "data": {
            "text/plain": [
              "'251  \\xa0µg/m³ '"
            ],
            "application/vnd.google.colaboratory.intrinsic+json": {
              "type": "string"
            }
          },
          "metadata": {},
          "execution_count": 33
        }
      ]
    },
    {
      "cell_type": "code",
      "source": [
        "hum_label=bs4.find_all(class_=\"air-quality-forecast-container-humidity__label\")\n",
        "hum_label"
      ],
      "metadata": {
        "colab": {
          "base_uri": "https://localhost:8080/"
        },
        "id": "wZ1484MidG7r",
        "outputId": "8df4ceed-e457-45fe-b144-29a619902e82"
      },
      "execution_count": 30,
      "outputs": [
        {
          "output_type": "execute_result",
          "data": {
            "text/plain": [
              "[<span _ngcontent-airvisual-web-c182905767=\"\" class=\"air-quality-forecast-container-humidity__label\"> 66%<!-- --></span>]"
            ]
          },
          "metadata": {},
          "execution_count": 30
        }
      ]
    },
    {
      "cell_type": "code",
      "source": [
        "hum_label=bs4.find_all(class_=\"air-quality-forecast-container-humidity__label\")\n",
        "hum_label"
      ],
      "metadata": {
        "id": "3tSUUDRUdPdZ"
      },
      "execution_count": null,
      "outputs": []
    },
    {
      "cell_type": "code",
      "source": [
        "wind_label=bs4.find_all(class_=\"air-quality-forecast-container-wind__label\")\n",
        "wind_label"
      ],
      "metadata": {
        "colab": {
          "base_uri": "https://localhost:8080/"
        },
        "id": "rISSWA1clQr5",
        "outputId": "8a9bf782-b7c0-4cb4-e08d-0ffba8ab7e6b"
      },
      "execution_count": 31,
      "outputs": [
        {
          "output_type": "execute_result",
          "data": {
            "text/plain": [
              "[<span _ngcontent-airvisual-web-c182905767=\"\" class=\"air-quality-forecast-container-wind__label\">0<!-- --> mph </span>]"
            ]
          },
          "metadata": {},
          "execution_count": 31
        }
      ]
    },
    {
      "cell_type": "code",
      "source": [
        "weather_label=bs4.find_all(class_=\"air-quality-forecast-container-weather__label\")\n",
        "weather_label"
      ],
      "metadata": {
        "colab": {
          "base_uri": "https://localhost:8080/"
        },
        "id": "7uiIt-0VlRX4",
        "outputId": "9e5d588d-94a8-48fa-c6fa-863e23a8c27f"
      },
      "execution_count": 32,
      "outputs": [
        {
          "output_type": "execute_result",
          "data": {
            "text/plain": [
              "[<span _ngcontent-airvisual-web-c182905767=\"\" class=\"air-quality-forecast-container-weather__label\">51.8°<!-- --></span>]"
            ]
          },
          "metadata": {},
          "execution_count": 32
        }
      ]
    },
    {
      "cell_type": "code",
      "source": [],
      "metadata": {
        "id": "XoS2Gbp1lncp"
      },
      "execution_count": null,
      "outputs": []
    }
  ]
}